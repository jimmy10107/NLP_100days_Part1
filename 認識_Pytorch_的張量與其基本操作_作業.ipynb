{
  "cells": [
    {
      "cell_type": "markdown",
      "metadata": {
        "id": "view-in-github",
        "colab_type": "text"
      },
      "source": [
        "<a href=\"https://colab.research.google.com/github/jimmy10107/NLP_100days_Part1/blob/main/%E8%AA%8D%E8%AD%98_Pytorch_%E7%9A%84%E5%BC%B5%E9%87%8F%E8%88%87%E5%85%B6%E5%9F%BA%E6%9C%AC%E6%93%8D%E4%BD%9C_%E4%BD%9C%E6%A5%AD.ipynb\" target=\"_parent\"><img src=\"https://colab.research.google.com/assets/colab-badge.svg\" alt=\"Open In Colab\"/></a>"
      ]
    },
    {
      "cell_type": "markdown",
      "metadata": {
        "id": "3rMMP32YRJWa"
      },
      "source": [
        "### 作業目的: 更加熟習pytorch的tensor操作\n",
        "\n",
        "pytorch中有提供很多的API，讓使用者針對tensor進行各式各樣的操作，本次的作業希望讀者由pytorch的[官方網站](https://pytorch.org/docs/stable/torch.html)中選定四個針對tensor操作的API，對他的使用方法進行範例操作演練。"
      ]
    },
    {
      "cell_type": "markdown",
      "metadata": {
        "id": "7181UpIWRJWf"
      },
      "source": [
        "### 選定的API 函數\n",
        "\n",
        "**請寫下選定的API functions**\n",
        "\n",
        "ex:\n",
        "* torch.from_array() / tensor.numpy()\n",
        "* torch.unsqueeze() / torch.squeeze()\n",
        "* tensor.transpose() / tensor.permute()\n",
        "* torch.reshape() / tensor.view()"
      ]
    },
    {
      "cell_type": "code",
      "execution_count": 1,
      "metadata": {
        "id": "48AqE1LGRJWg"
      },
      "outputs": [],
      "source": [
        "# Import torch and other required modules\n",
        "import torch\n",
        "import numpy as np"
      ]
    },
    {
      "cell_type": "code",
      "source": [
        "# 0維tensor (scalar)\n",
        "t1 = torch.tensor(1, dtype=torch.int16)\n",
        "print(t1.shape)\n",
        "t1\n",
        "\n",
        "# 1維tensor (vector)\n",
        "t2 = torch.tensor([1,2,3], dtype=torch.float32)\n",
        "print(t2.shape)\n",
        "t2\n",
        "\n",
        "# 2維tensor (matrix)\n",
        "t3 = torch.tensor([[1.,2],[3,4]])\n",
        "print(t3.shape)\n",
        "t3\n",
        "\n",
        "# 3維tensor (n-dimensional array)\n",
        "t4 = torch.tensor([[[1, 2, 3], [3, 4, 5]],\n",
        "\t\t\t\t\t[[5, 6, 7], [7, 8 ,9]]])\n",
        "print(t4.shape)\n",
        "t4\n",
        "\n",
        "# torch.randn: 由平均值為0，標準差為1的常態分佈中，抽樣元素組成給定形狀的張量\n",
        "t5 = torch.randn((2,3,5))\n",
        "print(t5.shape)\n",
        "t5\n",
        "\n",
        "# torch.randint: 在給定的上下界(預設下界為0)中抽樣\"整數\"元素組成給定形狀的張量\n",
        "t6 = torch.randint(low=0, high=10, size=(3,2))\n",
        "print(t6.shape)\n",
        "t6\n",
        "\n",
        "# torch.ones: 產生給定形狀，元素全為1的張量\n",
        "t7 = torch.ones((2,3))\n",
        "print(t7.shape)\n",
        "t7\n",
        "\n",
        "# torch.ones_like: 產生與給定張量相同形狀，但元素全為1的張量\n",
        "t8 = torch.ones_like(t6)\n",
        "print(t8.shape)\n",
        "t8"
      ],
      "metadata": {
        "colab": {
          "base_uri": "https://localhost:8080/"
        },
        "id": "jb-qEkUVRZok",
        "outputId": "a0a583d7-bb6c-4806-b797-1f82e6cf0dd0"
      },
      "execution_count": 6,
      "outputs": [
        {
          "output_type": "stream",
          "name": "stdout",
          "text": [
            "torch.Size([])\n",
            "torch.Size([3])\n",
            "torch.Size([2, 2])\n",
            "torch.Size([2, 2, 3])\n",
            "torch.Size([2, 3, 5])\n",
            "torch.Size([3, 2])\n",
            "torch.Size([2, 3])\n",
            "torch.Size([3, 2])\n"
          ]
        },
        {
          "output_type": "execute_result",
          "data": {
            "text/plain": [
              "tensor([[1, 1],\n",
              "        [1, 1],\n",
              "        [1, 1]])"
            ]
          },
          "metadata": {},
          "execution_count": 6
        }
      ]
    },
    {
      "cell_type": "code",
      "source": [
        "# 產生numpy ndarray\n",
        "x = np.array([[1.,2],[3,4]])\n",
        "print(x.shape)\n",
        "x\n",
        "\n",
        "# 由numpy ndarray產生pytorch tensor\n",
        "y = torch.from_numpy(x)\n",
        "# y = torch.tensor(x) 也可以達到同樣效果\n",
        "print(y.shape)\n",
        "y\n",
        "\n",
        "# 檢查array與tensor的資料型態\n",
        "x.dtype, y.dtype\n",
        "\n",
        "# 將tensor轉換為array\n",
        "z = y.numpy()\n",
        "print(z.shape)\n",
        "z"
      ],
      "metadata": {
        "colab": {
          "base_uri": "https://localhost:8080/"
        },
        "id": "z_W8CbDSSXsq",
        "outputId": "e2d83648-b3d6-4606-acf2-86b64aa19b9a"
      },
      "execution_count": 8,
      "outputs": [
        {
          "output_type": "stream",
          "name": "stdout",
          "text": [
            "(2, 2)\n",
            "torch.Size([2, 2])\n",
            "(2, 2)\n"
          ]
        },
        {
          "output_type": "execute_result",
          "data": {
            "text/plain": [
              "array([[1., 2.],\n",
              "       [3., 4.]])"
            ]
          },
          "metadata": {},
          "execution_count": 8
        }
      ]
    },
    {
      "cell_type": "markdown",
      "metadata": {
        "id": "aRWqlzQTRJWh"
      },
      "source": [
        "### 範例:\n",
        "### Function 1 - torch.from_array() / tensor.numpy()"
      ]
    },
    {
      "cell_type": "code",
      "execution_count": 2,
      "metadata": {
        "colab": {
          "base_uri": "https://localhost:8080/"
        },
        "id": "y71SBNxXRJWi",
        "outputId": "fb6b8f3f-f390-4e65-fa66-d7b873babe65"
      },
      "outputs": [
        {
          "output_type": "stream",
          "name": "stdout",
          "text": [
            "a: <class 'numpy.ndarray'>, float64\n",
            "b: <class 'torch.Tensor'>, torch.float64\n",
            "c: <class 'torch.Tensor'>, torch.float64\n",
            "d: <class 'numpy.ndarray'>, float64\n"
          ]
        }
      ],
      "source": [
        "# Example 1 - 將torch tensor與numpy ndarray互相轉換\n",
        "a = np.random.rand(1,2,3,3)\n",
        "print(f'a: {type(a)}, {a.dtype}')\n",
        "b = torch.from_numpy(a)\n",
        "print(f'b: {type(b)}, {b.dtype}')\n",
        "c = torch.tensor(a)\n",
        "print(f'c: {type(c)}, {c.dtype}')\n",
        "d = c.numpy()\n",
        "print(f'd: {type(d)}, {d.dtype}')"
      ]
    },
    {
      "cell_type": "code",
      "execution_count": null,
      "metadata": {
        "id": "GBz6pV5YRJWj",
        "outputId": "97b6b617-dc2c-4d9f-bd9b-b59e83cd7c80"
      },
      "outputs": [
        {
          "name": "stdout",
          "output_type": "stream",
          "text": [
            "a: <class 'numpy.ndarray'>, int64\n",
            "b: <class 'torch.Tensor'>, torch.int64\n",
            "c: <class 'torch.Tensor'>, torch.int64\n",
            "d: <class 'numpy.ndarray'>, int64\n"
          ]
        }
      ],
      "source": [
        "# Example 2 - 經過轉換後，torch tensor與numpy array依然有相近的資料型態\n",
        "a = np.random.randint(low=0, high=10, size=(2,2))\n",
        "print(f'a: {type(a)}, {a.dtype}')\n",
        "b = torch.from_numpy(a)\n",
        "print(f'b: {type(b)}, {b.dtype}')\n",
        "c = torch.tensor(a)\n",
        "print(f'c: {type(c)}, {c.dtype}')\n",
        "d = c.numpy()\n",
        "print(f'd: {type(d)}, {d.dtype}')"
      ]
    },
    {
      "cell_type": "markdown",
      "metadata": {
        "id": "ThmUiJqdRJWk"
      },
      "source": [
        "### Function 1 - *your function to illustrate*"
      ]
    },
    {
      "cell_type": "code",
      "execution_count": 9,
      "metadata": {
        "id": "XU1LUNOpRJWl"
      },
      "outputs": [],
      "source": [
        "# 創建tensor\n",
        "a = torch.randn((2,3))\n",
        "b = torch.randn(3)\n",
        "print(a.shape, b.shape)\n",
        "a, b\n",
        "\n",
        "# 相加\n",
        "t_add1 = a + b\n",
        "t_add2 = torch.add(a,b)\n",
        "print(t_add1.shape, t_add2.shape)\n",
        "t_add1, t_add2\n",
        "\n",
        "# 相減\n",
        "t_sub1 = a - b\n",
        "t_sub2 = torch.sub(a,b)\n",
        "print(t_sub1.shape, t_sub2.shape)\n",
        "t_sub1, t_sub2\n",
        "\n",
        "# 相除\n",
        "t_div1 = a / b\n",
        "t_div2 = torch.div(a,b)\n",
        "print(t_div1.shape, t_div2.shape)\n",
        "t_div1, t_div2\n",
        "\n",
        "# 相乘\n",
        "t_mul1 = a * b\n",
        "t_mul2 = torch.mul(a, b)\n",
        "print(t_mul1.shape, t_mul2.shape)\n",
        "t_mul1, t_mul2\n",
        "\n",
        "# 矩陣乘法\n",
        "c = torch.randn((2,3))\n",
        "d = torch.randn((3,4))\n",
        "\n",
        "t_matmul1 = c.mm(d)\n",
        "t_matmul2 = torch.mm(c,d)\n",
        "t_matmul3 = torch.matmul(c,d)\n",
        "t_matmul4 = c @ d\n",
        "\n",
        "print(t_matmul1,shape, t_matmul2,shape, t_matmul3,shape, t_matmul4,shape)"
      ]
    },
    {
      "cell_type": "code",
      "execution_count": null,
      "metadata": {
        "id": "rJJVFbaURJWl"
      },
      "outputs": [],
      "source": [
        "# Example 2 - ### your explanation ###\n",
        "### your code ###"
      ]
    },
    {
      "cell_type": "markdown",
      "metadata": {
        "id": "thBoIg3vRJWp"
      },
      "source": [
        "### Function 2 - your function to illustrate"
      ]
    },
    {
      "cell_type": "code",
      "source": [
        "# 創健tensor\n",
        "a = torch.tensor([[[1, 2, 3], [3, 4, 5]],\n",
        "\t\t\t\t\t\t\t\t\t[[5, 6, 7], [7, 8, 9]]])\n",
        "print(a.shape)\n",
        "print(a)\n",
        "\n",
        "# 將tensor形狀由[2,2,3]改為[2,6]\n",
        "b = a.reshape(2, 6)\n",
        "c = a.view(2, 6)\n",
        "d = a.reshape(2, -1)\n",
        "print(b.shape, c.shape, d.shape)\n",
        "b,c,d\n",
        "\n",
        "# 調換tensor維度\n",
        "e = a.permute((0, 2, 1))\n",
        "f = a.transpose(1,2)\n",
        "print(e.shape, f.shape)\n",
        "e, f\n",
        "\n",
        "# 增加張量維度\n",
        "g = torch.unsqueeze(a, dim=1) #增加維度在1的位置\n",
        "h = torch.squeeze(g) #壓縮為度為1的位置\n",
        "print(g.shape, h.shape)"
      ],
      "metadata": {
        "colab": {
          "base_uri": "https://localhost:8080/"
        },
        "id": "1dFuF0ITT2As",
        "outputId": "77bd487f-48a3-4f05-d1e1-5a5349676d3f"
      },
      "execution_count": 10,
      "outputs": [
        {
          "output_type": "stream",
          "name": "stdout",
          "text": [
            "torch.Size([2, 2, 3])\n",
            "tensor([[[1, 2, 3],\n",
            "         [3, 4, 5]],\n",
            "\n",
            "        [[5, 6, 7],\n",
            "         [7, 8, 9]]])\n",
            "torch.Size([2, 6]) torch.Size([2, 6]) torch.Size([2, 6])\n",
            "torch.Size([2, 3, 2]) torch.Size([2, 3, 2])\n",
            "torch.Size([2, 1, 2, 3]) torch.Size([2, 2, 3])\n"
          ]
        }
      ]
    }
  ],
  "metadata": {
    "kernelspec": {
      "display_name": "Python 3",
      "name": "python3"
    },
    "language_info": {
      "name": "python"
    },
    "colab": {
      "provenance": [],
      "include_colab_link": true
    },
    "accelerator": "GPU"
  },
  "nbformat": 4,
  "nbformat_minor": 0
}